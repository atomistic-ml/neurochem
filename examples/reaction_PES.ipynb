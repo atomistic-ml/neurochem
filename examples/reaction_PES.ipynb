{
 "cells": [
  {
   "cell_type": "markdown",
   "metadata": {},
   "source": [
    "### Set path to original pyNeuroChem. Please change to your own path"
   ]
  },
  {
   "cell_type": "markdown",
   "metadata": {},
   "source": [
    "#### Import required libraries"
   ]
  },
  {
   "cell_type": "code",
   "execution_count": 1,
   "metadata": {},
   "outputs": [
    {
     "name": "stdout",
     "output_type": "stream",
     "text": [
      "van Der Waals correction will be unavailable. Please install ased3\n"
     ]
    }
   ],
   "source": [
    "import sys\n",
    "#sys.path.append('/home/olexandr/notebooks/ASE_ANI/lib')\n",
    "from ase_interface import ANIENS # ANI -> ASE Interface class\n",
    "from ase_interface import aniensloader #  ANI ensemble loader function"
   ]
  },
  {
   "cell_type": "code",
   "execution_count": 2,
   "metadata": {},
   "outputs": [],
   "source": [
    "import numpy as np\n",
    "import  ase\n",
    "#from ase.build import molecule\n",
    "#from ase.neb import NEB\n",
    "from ase.calculators.mopac import MOPAC\n",
    "\n",
    "#from ase.neb import NEBtools\n",
    "from ase.io import read, write\n",
    "\n",
    "import matplotlib\n",
    "import matplotlib as mpl\n",
    "\n",
    "import matplotlib.pyplot as plt\n",
    "\n",
    "import seaborn as sns\n",
    "%matplotlib inline"
   ]
  },
  {
   "cell_type": "markdown",
   "metadata": {},
   "source": [
    "#### Load the 8x network ANI-1ccx ensemble\n",
    "Preloading the ensemble allows a single class to be used in a for loop or multiple classes without being reloaded"
   ]
  },
  {
   "cell_type": "code",
   "execution_count": 3,
   "metadata": {},
   "outputs": [],
   "source": [
    "# Current ANI model options are:\n",
    "# '../ani_models/ani-1ccx_8x.info' Coupled cluster transfer learned model\n",
    "# '../ani_models/ani-1x_8x.info'   Full ANI-1x wb97x/6-31g* dataset model\n",
    "aniensemble = aniensloader('../ani_models/ani-1ccx_8x.info', 0, multigpu=False)"
   ]
  },
  {
   "cell_type": "markdown",
   "metadata": {},
   "source": [
    "#### Reading IRC datra for one reaction (Cope rearrangement of citral). Look also in data folder for more examples"
   ]
  },
  {
   "cell_type": "code",
   "execution_count": 4,
   "metadata": {},
   "outputs": [],
   "source": [
    "traj = read('data/citralOCopeALL.xyz', index=':')"
   ]
  },
  {
   "cell_type": "code",
   "execution_count": 5,
   "metadata": {},
   "outputs": [
    {
     "data": {
      "text/plain": [
       "200"
      ]
     },
     "execution_count": 5,
     "metadata": {},
     "output_type": "execute_result"
    }
   ],
   "source": [
    "len(traj)"
   ]
  },
  {
   "cell_type": "code",
   "execution_count": 6,
   "metadata": {},
   "outputs": [
    {
     "ename": "RuntimeError",
     "evalue": "mopac in . returned an error: 127",
     "output_type": "error",
     "traceback": [
      "\u001b[0;31m---------------------------------------------------------------------------\u001b[0m",
      "\u001b[0;31mRuntimeError\u001b[0m                              Traceback (most recent call last)",
      "\u001b[0;32m<ipython-input-6-b0b0cb163370>\u001b[0m in \u001b[0;36m<module>\u001b[0;34m()\u001b[0m\n\u001b[1;32m     15\u001b[0m     \u001b[0mD2\u001b[0m\u001b[0;34m.\u001b[0m\u001b[0mappend\u001b[0m\u001b[0;34m(\u001b[0m\u001b[0mgeometry\u001b[0m\u001b[0;34m.\u001b[0m\u001b[0mget_distance\u001b[0m\u001b[0;34m(\u001b[0m\u001b[0;36m6\u001b[0m\u001b[0;34m,\u001b[0m \u001b[0;36m9\u001b[0m\u001b[0;34m)\u001b[0m\u001b[0;34m)\u001b[0m\u001b[0;34m\u001b[0m\u001b[0m\n\u001b[1;32m     16\u001b[0m     \u001b[0mgeometry\u001b[0m\u001b[0;34m.\u001b[0m\u001b[0mset_calculator\u001b[0m\u001b[0;34m(\u001b[0m\u001b[0mMOPAC\u001b[0m\u001b[0;34m(\u001b[0m\u001b[0mmethod\u001b[0m\u001b[0;34m=\u001b[0m\u001b[0;34m'PM7'\u001b[0m\u001b[0;34m)\u001b[0m\u001b[0;34m)\u001b[0m\u001b[0;34m\u001b[0m\u001b[0m\n\u001b[0;32m---> 17\u001b[0;31m     \u001b[0menergies_mop\u001b[0m\u001b[0;34m.\u001b[0m\u001b[0mappend\u001b[0m\u001b[0;34m(\u001b[0m\u001b[0mgeometry\u001b[0m\u001b[0;34m.\u001b[0m\u001b[0mget_potential_energy\u001b[0m\u001b[0;34m(\u001b[0m\u001b[0;34m)\u001b[0m\u001b[0;34m)\u001b[0m\u001b[0;34m\u001b[0m\u001b[0m\n\u001b[0m",
      "\u001b[0;32m/scratch/Gits/ase/ase/atoms.py\u001b[0m in \u001b[0;36mget_potential_energy\u001b[0;34m(self, force_consistent, apply_constraint)\u001b[0m\n\u001b[1;32m    682\u001b[0m                 self, force_consistent=force_consistent)\n\u001b[1;32m    683\u001b[0m         \u001b[0;32melse\u001b[0m\u001b[0;34m:\u001b[0m\u001b[0;34m\u001b[0m\u001b[0m\n\u001b[0;32m--> 684\u001b[0;31m             \u001b[0menergy\u001b[0m \u001b[0;34m=\u001b[0m \u001b[0mself\u001b[0m\u001b[0;34m.\u001b[0m\u001b[0m_calc\u001b[0m\u001b[0;34m.\u001b[0m\u001b[0mget_potential_energy\u001b[0m\u001b[0;34m(\u001b[0m\u001b[0mself\u001b[0m\u001b[0;34m)\u001b[0m\u001b[0;34m\u001b[0m\u001b[0m\n\u001b[0m\u001b[1;32m    685\u001b[0m         \u001b[0;32mif\u001b[0m \u001b[0mapply_constraint\u001b[0m\u001b[0;34m:\u001b[0m\u001b[0;34m\u001b[0m\u001b[0m\n\u001b[1;32m    686\u001b[0m             \u001b[0;32mfor\u001b[0m \u001b[0mconstraint\u001b[0m \u001b[0;32min\u001b[0m \u001b[0mself\u001b[0m\u001b[0;34m.\u001b[0m\u001b[0mconstraints\u001b[0m\u001b[0;34m:\u001b[0m\u001b[0;34m\u001b[0m\u001b[0m\n",
      "\u001b[0;32m/scratch/Gits/ase/ase/calculators/calculator.py\u001b[0m in \u001b[0;36mget_potential_energy\u001b[0;34m(self, atoms, force_consistent)\u001b[0m\n\u001b[1;32m    439\u001b[0m \u001b[0;34m\u001b[0m\u001b[0m\n\u001b[1;32m    440\u001b[0m     \u001b[0;32mdef\u001b[0m \u001b[0mget_potential_energy\u001b[0m\u001b[0;34m(\u001b[0m\u001b[0mself\u001b[0m\u001b[0;34m,\u001b[0m \u001b[0matoms\u001b[0m\u001b[0;34m=\u001b[0m\u001b[0;32mNone\u001b[0m\u001b[0;34m,\u001b[0m \u001b[0mforce_consistent\u001b[0m\u001b[0;34m=\u001b[0m\u001b[0;32mFalse\u001b[0m\u001b[0;34m)\u001b[0m\u001b[0;34m:\u001b[0m\u001b[0;34m\u001b[0m\u001b[0m\n\u001b[0;32m--> 441\u001b[0;31m         \u001b[0menergy\u001b[0m \u001b[0;34m=\u001b[0m \u001b[0mself\u001b[0m\u001b[0;34m.\u001b[0m\u001b[0mget_property\u001b[0m\u001b[0;34m(\u001b[0m\u001b[0;34m'energy'\u001b[0m\u001b[0;34m,\u001b[0m \u001b[0matoms\u001b[0m\u001b[0;34m)\u001b[0m\u001b[0;34m\u001b[0m\u001b[0m\n\u001b[0m\u001b[1;32m    442\u001b[0m         \u001b[0;32mif\u001b[0m \u001b[0mforce_consistent\u001b[0m\u001b[0;34m:\u001b[0m\u001b[0;34m\u001b[0m\u001b[0m\n\u001b[1;32m    443\u001b[0m             \u001b[0;32mif\u001b[0m \u001b[0;34m'free_energy'\u001b[0m \u001b[0;32mnot\u001b[0m \u001b[0;32min\u001b[0m \u001b[0mself\u001b[0m\u001b[0;34m.\u001b[0m\u001b[0mresults\u001b[0m\u001b[0;34m:\u001b[0m\u001b[0;34m\u001b[0m\u001b[0m\n",
      "\u001b[0;32m/scratch/Gits/ase/ase/calculators/calculator.py\u001b[0m in \u001b[0;36mget_property\u001b[0;34m(self, name, atoms, allow_calculation)\u001b[0m\n\u001b[1;32m    484\u001b[0m             \u001b[0;32mif\u001b[0m \u001b[0;32mnot\u001b[0m \u001b[0mallow_calculation\u001b[0m\u001b[0;34m:\u001b[0m\u001b[0;34m\u001b[0m\u001b[0m\n\u001b[1;32m    485\u001b[0m                 \u001b[0;32mreturn\u001b[0m \u001b[0;32mNone\u001b[0m\u001b[0;34m\u001b[0m\u001b[0m\n\u001b[0;32m--> 486\u001b[0;31m             \u001b[0mself\u001b[0m\u001b[0;34m.\u001b[0m\u001b[0mcalculate\u001b[0m\u001b[0;34m(\u001b[0m\u001b[0matoms\u001b[0m\u001b[0;34m,\u001b[0m \u001b[0;34m[\u001b[0m\u001b[0mname\u001b[0m\u001b[0;34m]\u001b[0m\u001b[0;34m,\u001b[0m \u001b[0msystem_changes\u001b[0m\u001b[0;34m)\u001b[0m\u001b[0;34m\u001b[0m\u001b[0m\n\u001b[0m\u001b[1;32m    487\u001b[0m \u001b[0;34m\u001b[0m\u001b[0m\n\u001b[1;32m    488\u001b[0m         \u001b[0;32mif\u001b[0m \u001b[0mname\u001b[0m \u001b[0;34m==\u001b[0m \u001b[0;34m'magmom'\u001b[0m \u001b[0;32mand\u001b[0m \u001b[0;34m'magmom'\u001b[0m \u001b[0;32mnot\u001b[0m \u001b[0;32min\u001b[0m \u001b[0mself\u001b[0m\u001b[0;34m.\u001b[0m\u001b[0mresults\u001b[0m\u001b[0;34m:\u001b[0m\u001b[0;34m\u001b[0m\u001b[0m\n",
      "\u001b[0;32m/scratch/Gits/ase/ase/calculators/calculator.py\u001b[0m in \u001b[0;36mcalculate\u001b[0;34m(self, atoms, properties, system_changes)\u001b[0m\n\u001b[1;32m    647\u001b[0m         \u001b[0;32mif\u001b[0m \u001b[0merrorcode\u001b[0m\u001b[0;34m:\u001b[0m\u001b[0;34m\u001b[0m\u001b[0m\n\u001b[1;32m    648\u001b[0m             raise RuntimeError('{} in {} returned an error: {}'\n\u001b[0;32m--> 649\u001b[0;31m                                .format(self.name, self.directory, errorcode))\n\u001b[0m\u001b[1;32m    650\u001b[0m         \u001b[0mself\u001b[0m\u001b[0;34m.\u001b[0m\u001b[0mread_results\u001b[0m\u001b[0;34m(\u001b[0m\u001b[0;34m)\u001b[0m\u001b[0;34m\u001b[0m\u001b[0m\n\u001b[1;32m    651\u001b[0m \u001b[0;34m\u001b[0m\u001b[0m\n",
      "\u001b[0;31mRuntimeError\u001b[0m: mopac in . returned an error: 127"
     ]
    }
   ],
   "source": [
    "energies = []\n",
    "energies_mop = []\n",
    "atomic_energies = []\n",
    "D1 =[]\n",
    "D2 = []\n",
    "for geometry in traj:\n",
    "    geometry.set_calculator(ANIENS(aniensemble))\n",
    "    energies.append(geometry.get_potential_energy())\n",
    "    \n",
    "    #calculating atomic enegry decomposition \n",
    "    atomic_energies.append(geometry.calc.get_atomicenergies())\n",
    "    \n",
    "    # monitoring certain distances relevant to the reaction\n",
    "    D1.append(geometry.get_distance(0, 1))\n",
    "    D2.append(geometry.get_distance(6, 9))    \n",
    "    geometry.set_calculator(MOPAC(method='PM7'))\n",
    "    energies_mop.append(geometry.get_potential_energy())"
   ]
  },
  {
   "cell_type": "code",
   "execution_count": null,
   "metadata": {},
   "outputs": [],
   "source": [
    "energies = np.array(energies)\n",
    "energies_mop = np.array(energies_mop)\n",
    "dE_mop =  energies_mop - energies_mop.min()\n",
    "dE =  energies - energies.min()"
   ]
  },
  {
   "cell_type": "code",
   "execution_count": null,
   "metadata": {},
   "outputs": [],
   "source": [
    "mpl.rcParams['figure.figsize'] = (10.0, 7.0)\n",
    "fig = plt.figure()\n",
    "fig.suptitle('Reaction bond Distances', fontsize=14, fontweight='bold')\n",
    "ax = fig.add_subplot(111)\n",
    "ax.plot(dE*23.06, label='ANI')\n",
    "ax.plot(dE_mop*23.06, label='PM7')\n",
    "plt.legend(fontsize=24)\n",
    "sns.set(font_scale=1.0)\n",
    "plt.tick_params(axis='both', which='major', labelsize=20)\n",
    "ax.set_xlabel('Frame', fontsize=28)\n",
    "ax.set_ylabel('E, kcal/mol', fontsize=28)\n",
    "\n",
    "plt.show()"
   ]
  },
  {
   "cell_type": "code",
   "execution_count": null,
   "metadata": {},
   "outputs": [],
   "source": [
    "mpl.rcParams['figure.figsize'] = (10.0, 7.0)\n",
    "fig = plt.figure()\n",
    "fig.suptitle('Reaction bond distance profile', fontsize=14, fontweight='bold')\n",
    "ax = fig.add_subplot(111)\n",
    "ax.plot(D1, label='R(A,B)')\n",
    "ax.plot(D2, label='R(C,D)')\n",
    "plt.legend(fontsize=24)\n",
    "sns.set(font_scale=1.0)\n",
    "plt.tick_params(axis='both', which='major', labelsize=20)\n",
    "ax.set_xlabel('Frame', fontsize=28)\n",
    "ax.set_ylabel('R, Angstrom', fontsize=28)\n",
    "\n",
    "plt.show()"
   ]
  },
  {
   "cell_type": "markdown",
   "metadata": {},
   "source": [
    "# Atomic energy decomposition"
   ]
  },
  {
   "cell_type": "code",
   "execution_count": null,
   "metadata": {},
   "outputs": [],
   "source": [
    "atomic_e =  np.array(atomic_energies)\n",
    "atomic_e.shape"
   ]
  },
  {
   "cell_type": "code",
   "execution_count": null,
   "metadata": {},
   "outputs": [],
   "source": [
    "mpl.rcParams['figure.figsize'] = (10.0, 7.0)\n",
    "fig = plt.figure()\n",
    "fig.suptitle('Reaction local AEV energies', fontsize=14, fontweight='bold')\n",
    "ax = fig.add_subplot(111)\n",
    "ax.plot(atomic_e[:,0], label='E(A)')\n",
    "ax.plot(atomic_e[:,1], label='E(B)')\n",
    "plt.legend(fontsize=24)\n",
    "sns.set(font_scale=1.0)\n",
    "plt.tick_params(axis='both', which='major', labelsize=20)\n",
    "ax.set_xlabel('Frame', fontsize=28)\n",
    "ax.set_ylabel('E, a.u', fontsize=28)\n",
    "\n",
    "plt.show()"
   ]
  },
  {
   "cell_type": "code",
   "execution_count": null,
   "metadata": {},
   "outputs": [],
   "source": [
    "mpl.rcParams['figure.figsize'] = (10.0, 7.0)\n",
    "fig = plt.figure()\n",
    "fig.suptitle('Reaction local AEV energies', fontsize=14, fontweight='bold')\n",
    "ax = fig.add_subplot(111)\n",
    "ax.plot(atomic_e[:,6], label='E(C)')\n",
    "ax.plot(atomic_e[:,9], label='E(D)')\n",
    "plt.legend(fontsize=24)\n",
    "sns.set(font_scale=1.0)\n",
    "plt.tick_params(axis='both', which='major', labelsize=20)\n",
    "ax.set_xlabel('Frame', fontsize=28)\n",
    "ax.set_ylabel('E, a.u', fontsize=28)\n",
    "\n",
    "plt.show()"
   ]
  },
  {
   "cell_type": "code",
   "execution_count": null,
   "metadata": {},
   "outputs": [],
   "source": []
  },
  {
   "cell_type": "code",
   "execution_count": null,
   "metadata": {},
   "outputs": [],
   "source": []
  }
 ],
 "metadata": {
  "kernelspec": {
   "display_name": "Python 3",
   "language": "python",
   "name": "python3"
  },
  "language_info": {
   "codemirror_mode": {
    "name": "ipython",
    "version": 3
   },
   "file_extension": ".py",
   "mimetype": "text/x-python",
   "name": "python",
   "nbconvert_exporter": "python",
   "pygments_lexer": "ipython3",
   "version": "3.6.4"
  }
 },
 "nbformat": 4,
 "nbformat_minor": 1
}
