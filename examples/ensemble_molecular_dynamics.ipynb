{
 "cells": [
  {
   "cell_type": "markdown",
   "metadata": {},
   "source": [
    "### Set path to original pyNeuroChem. Please change to your own path"
   ]
  },
  {
   "cell_type": "markdown",
   "metadata": {},
   "source": [
    "#### Import required libraries"
   ]
  },
  {
   "cell_type": "code",
   "execution_count": 1,
   "metadata": {},
   "outputs": [
    {
     "name": "stdout",
     "output_type": "stream",
     "text": [
      "van Der Waals correction will be unavailable. Please install ased3\n"
     ]
    }
   ],
   "source": [
    "import sys\n",
    "#sys.path.append('/home/olexandr/notebooks/ASE_ANI/lib')\n",
    "from ase_interface import ANIENS\n",
    "from ase_interface import aniensloader"
   ]
  },
  {
   "cell_type": "code",
   "execution_count": 2,
   "metadata": {},
   "outputs": [],
   "source": [
    "import numpy as np\n",
    "import  ase\n",
    "import time\n",
    "#from ase.build import molecule\n",
    "#from ase.neb import NEB\n",
    "#from ase.calculators.mopac import MOPAC\n",
    "from ase.md.langevin import Langevin\n",
    "from ase.io.trajectory import Trajectory\n",
    "from ase import units\n",
    "\n",
    "from ase.optimize.fire import FIRE as QuasiNewton\n",
    "\n",
    "from ase.md.nvtberendsen import NVTBerendsen\n",
    "from ase.md import MDLogger\n",
    "\n",
    "#from ase.neb import NEBtools\n",
    "from ase.io import read, write\n",
    "from ase.optimize import BFGS, LBFGS "
   ]
  },
  {
   "cell_type": "markdown",
   "metadata": {},
   "source": [
    "#### Load the benzene molecule from the xyz"
   ]
  },
  {
   "cell_type": "code",
   "execution_count": 3,
   "metadata": {},
   "outputs": [],
   "source": [
    "bz = read('data/bz.xyz')"
   ]
  },
  {
   "cell_type": "markdown",
   "metadata": {},
   "source": [
    "#### Set ANI ensemble calculator"
   ]
  },
  {
   "cell_type": "code",
   "execution_count": 4,
   "metadata": {},
   "outputs": [],
   "source": [
    "# Current ANI model options are:\n",
    "# '../ani_models/ani-1ccx_8x.info' Coupled cluster transfer learned model\n",
    "# '../ani_models/ani-1x_8x.info'   Full ANI-1x wb97x/6-31g* dataset model\n",
    "bz.set_calculator(ANIENS(aniensloader('../ani_models/ani-1ccx_8x.info',0,multigpu=False)))"
   ]
  },
  {
   "cell_type": "markdown",
   "metadata": {},
   "source": [
    "#### Run Optimization"
   ]
  },
  {
   "cell_type": "code",
   "execution_count": 5,
   "metadata": {},
   "outputs": [
    {
     "name": "stdout",
     "output_type": "stream",
     "text": [
      "       Step     Time          Energy         fmax\n",
      "LBFGS:    0 15:54:49    -6311.279512        0.5988\n",
      "LBFGS:    1 15:54:49    -6311.289039        0.2507\n",
      "LBFGS:    2 15:54:49    -6311.292550        0.1099\n",
      "LBFGS:    3 15:54:49    -6311.293796        0.0610\n",
      "LBFGS:    4 15:54:49    -6311.294387        0.0328\n",
      "LBFGS:    5 15:54:49    -6311.294429        0.0054\n",
      "LBFGS:    6 15:54:49    -6311.294432        0.0003\n",
      "[ANI Total time: 0.06440186500549316 seconds]\n"
     ]
    }
   ],
   "source": [
    "start_time = time.time()\n",
    "dyn = LBFGS(bz)\n",
    "dyn.run(fmax=0.001)\n",
    "print('[ANI Total time:', time.time() - start_time, 'seconds]')"
   ]
  },
  {
   "cell_type": "markdown",
   "metadata": {},
   "source": [
    "#### Setup dynamics"
   ]
  },
  {
   "cell_type": "code",
   "execution_count": 6,
   "metadata": {},
   "outputs": [],
   "source": [
    "# Temperature\n",
    "T = 300.0\n",
    "\n",
    "# We want to run MD with constant energy using the Langevin algorithm\n",
    "# with a time step of 5 fs, the temperature T and the friction\n",
    "# coefficient to 0.02 atomic units.\n",
    "dyn = Langevin(bz, 0.25 * units.fs, T * units.kB, 0.02)"
   ]
  },
  {
   "cell_type": "markdown",
   "metadata": {},
   "source": [
    "#### Setup printer function"
   ]
  },
  {
   "cell_type": "code",
   "execution_count": 7,
   "metadata": {},
   "outputs": [
    {
     "name": "stdout",
     "output_type": "stream",
     "text": [
      "Energy per atom: Epot = -525.941eV  Ekin = 0.000eV (T=  0K)  Etot = -525.941eV\n"
     ]
    }
   ],
   "source": [
    "def printenergy(a=bz):  # store a reference to atoms in the definition.\n",
    "    \"\"\"Function to print the potential, kinetic and total energy.\"\"\"\n",
    "    epot = a.get_potential_energy() / len(a)\n",
    "    ekin = a.get_kinetic_energy() / len(a)\n",
    "    print('Energy per atom: Epot = %.3feV  Ekin = %.3feV (T=%3.0fK)  '\n",
    "          'Etot = %.3feV' % (epot, ekin, ekin / (1.5 * units.kB), epot + ekin))\n",
    "    \n",
    "dyn.attach(printenergy, interval=100)\n",
    "printenergy()"
   ]
  },
  {
   "cell_type": "markdown",
   "metadata": {},
   "source": [
    "#### Run 2000 steps of MD"
   ]
  },
  {
   "cell_type": "code",
   "execution_count": 8,
   "metadata": {},
   "outputs": [
    {
     "name": "stdout",
     "output_type": "stream",
     "text": [
      "Energy per atom: Epot = -525.940eV  Ekin = 0.001eV (T= 10K)  Etot = -525.939eV\n",
      "Energy per atom: Epot = -525.938eV  Ekin = 0.003eV (T= 24K)  Etot = -525.935eV\n",
      "Energy per atom: Epot = -525.937eV  Ekin = 0.007eV (T= 51K)  Etot = -525.931eV\n",
      "Energy per atom: Epot = -525.934eV  Ekin = 0.005eV (T= 38K)  Etot = -525.929eV\n",
      "Energy per atom: Epot = -525.934eV  Ekin = 0.006eV (T= 50K)  Etot = -525.928eV\n",
      "Energy per atom: Epot = -525.933eV  Ekin = 0.009eV (T= 70K)  Etot = -525.924eV\n",
      "Energy per atom: Epot = -525.931eV  Ekin = 0.009eV (T= 67K)  Etot = -525.923eV\n",
      "Energy per atom: Epot = -525.934eV  Ekin = 0.008eV (T= 65K)  Etot = -525.925eV\n",
      "Energy per atom: Epot = -525.931eV  Ekin = 0.008eV (T= 58K)  Etot = -525.923eV\n",
      "Energy per atom: Epot = -525.933eV  Ekin = 0.014eV (T=105K)  Etot = -525.920eV\n",
      "Energy per atom: Epot = -525.933eV  Ekin = 0.013eV (T=103K)  Etot = -525.920eV\n",
      "Energy per atom: Epot = -525.933eV  Ekin = 0.014eV (T=109K)  Etot = -525.919eV\n",
      "Energy per atom: Epot = -525.932eV  Ekin = 0.014eV (T=110K)  Etot = -525.917eV\n",
      "Energy per atom: Epot = -525.930eV  Ekin = 0.014eV (T=107K)  Etot = -525.916eV\n",
      "Energy per atom: Epot = -525.927eV  Ekin = 0.011eV (T= 86K)  Etot = -525.916eV\n",
      "Energy per atom: Epot = -525.927eV  Ekin = 0.011eV (T= 86K)  Etot = -525.916eV\n",
      "Energy per atom: Epot = -525.929eV  Ekin = 0.014eV (T=112K)  Etot = -525.914eV\n",
      "Energy per atom: Epot = -525.929eV  Ekin = 0.016eV (T=126K)  Etot = -525.913eV\n",
      "Energy per atom: Epot = -525.924eV  Ekin = 0.015eV (T=113K)  Etot = -525.909eV\n",
      "Energy per atom: Epot = -525.930eV  Ekin = 0.021eV (T=166K)  Etot = -525.908eV\n",
      "[ANI Total time: 9.67542815208435 seconds]\n"
     ]
    }
   ],
   "source": [
    "start_time = time.time()\n",
    "dyn.run(2000) # Do 1ps of MD\n",
    "print('[ANI Total time:', time.time() - start_time, 'seconds]')"
   ]
  },
  {
   "cell_type": "code",
   "execution_count": null,
   "metadata": {},
   "outputs": [],
   "source": []
  },
  {
   "cell_type": "code",
   "execution_count": null,
   "metadata": {},
   "outputs": [],
   "source": []
  }
 ],
 "metadata": {
  "anaconda-cloud": {},
  "kernelspec": {
   "display_name": "Python 3",
   "language": "python",
   "name": "python3"
  },
  "language_info": {
   "codemirror_mode": {
    "name": "ipython",
    "version": 3
   },
   "file_extension": ".py",
   "mimetype": "text/x-python",
   "name": "python",
   "nbconvert_exporter": "python",
   "pygments_lexer": "ipython3",
   "version": "3.6.4"
  }
 },
 "nbformat": 4,
 "nbformat_minor": 1
}
